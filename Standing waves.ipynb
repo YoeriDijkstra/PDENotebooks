{
 "cells": [
  {
   "cell_type": "markdown",
   "metadata": {},
   "source": [
    "<img src=\"data:image/png;base64,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\" style=\"width:200px;float:right\">\n",
    "<h1>Vibrating elastic string</h1>\n",
    "\n",
    "## Introduction\n",
    "\n",
    "To start, it is advised to execute this notebook *once* in total. For this go to the toolbar above. Next, click on **Kernel**, **Restart & Run All**, and finally **Restart and Run All Cells**.\n",
    "\n",
    "**Now follow the instructions in the Grasple Exercise.**\n",
    "\n",
    "## In this notebook\n",
    "\n",
    "In this notebook the wave equation\n",
    "\n",
    "$$\n",
    "\\frac{\\partial^2 u}{\\partial t^2}=\\frac{\\partial ^2u}{\\partial x^2}\n",
    "$$\n",
    "\n",
    "for $x\\in (0,\\pi),\\ t>0$ is considered for an elastic string.\n",
    "\n",
    "The initial and boundary conditions are\n",
    "\n",
    "$$\n",
    "\\begin{align*}\n",
    "u(0,t) &= 0, \\\\\n",
    "u(\\pi,t) &= 0, \\\\\n",
    "\\frac{\\partial u}{\\partial t}(x,0) &= 0.\n",
    "\\end{align*}\n",
    "$$\n",
    "\n",
    "This notebook constructs the natural modes of vibration of the exact solution $u(x,t)$ of this problem using <code>numpy</code>, and then uses <code>numpy</code> and <code>pyplot</code> to display the obtained *exact* values.\n",
    "\n",
    "The next cell imports a function that performs this."
   ]
  },
  {
   "cell_type": "code",
   "execution_count": null,
   "metadata": {},
   "outputs": [],
   "source": [
    "%matplotlib notebook\n",
    "import sys\n",
    "sys.path.append('resource/asnlib/public')\n",
    "from Standing_waves import Standing_waves"
   ]
  },
  {
   "cell_type": "markdown",
   "metadata": {},
   "source": [
    "# INPUT CELL\n",
    "\n",
    "## In the cell below you should put the values of the parameters you see in *Grasple*.\n",
    "\n",
    "### *Please note*: Each attempt in Grasple contains different values for the parameters.\n",
    "\n",
    "## Then the results of the calculations are shown."
   ]
  },
  {
   "cell_type": "code",
   "execution_count": null,
   "metadata": {
    "deletable": false,
    "scrolled": false
   },
   "outputs": [],
   "source": [
    "''' Set the given values/functions in the following lines '''\n",
    "n = 9\n",
    "m = 3\n",
    "\n",
    "''' The next line performs the calculations and shows the results. '''\n",
    "Standing_waves(n,m)"
   ]
  },
  {
   "cell_type": "code",
   "execution_count": null,
   "metadata": {},
   "outputs": [],
   "source": []
  }
 ],
 "metadata": {
  "celltoolbar": "Geen",
  "kernelspec": {
   "display_name": "Python 3 (ipykernel)",
   "language": "python",
   "name": "python3"
  },
  "language_info": {
   "codemirror_mode": {
    "name": "ipython",
    "version": 3
   },
   "file_extension": ".py",
   "mimetype": "text/x-python",
   "name": "python",
   "nbconvert_exporter": "python",
   "pygments_lexer": "ipython3",
   "version": "3.9.7"
  }
 },
 "nbformat": 4,
 "nbformat_minor": 4
}
