{
 "metadata": {
  "kernelspec": {
   "name": "python3",
   "display_name": "Python 3 (ipykernel)",
   "language": "python"
  },
  "language_info": {
   "name": "python",
   "version": "3.10.16",
   "mimetype": "text/x-python",
   "codemirror_mode": {
    "name": "ipython",
    "version": 3
   },
   "pygments_lexer": "ipython3",
   "nbconvert_exporter": "python",
   "file_extension": ".py"
  }
 },
 "nbformat_minor": 5,
 "nbformat": 4,
 "cells": [
  {
   "id": "c1d48b5b-0eef-4f6a-92b2-ea8b3afcef8b",
   "cell_type": "markdown",
   "source": [
    "# Welcome\n",
    "This Binder environment contains a collection of practice exercises for PDE. The exercises guide you through the use of the eigenfunction expansion method.\n",
    "\n",
    "### How it works\n",
    "- These exercises are **to be solved on paper**.  \n",
    "- You can use the provided Python code to **check and visualize your answers**.  \n",
    "- Notebooks run entirely in the browser no installation needed.\n",
    "- NB. Changes you make to the code will not be saved. \n",
    "\n",
    "### How to run the code\n",
    "1. Click inside a code cell.  \n",
    "2. Press **Shift + Enter** (or click Run at the top menu).  \n",
    "3. To run all cells in order: **Kernel, Restart & Run All**.  \n",
    "\n",
    "### Exercises\n",
    "Use the file browser menu on the left or click a link below to open each notebook:"
   ],
   "metadata": {}
  },
  {
   "id": "24094a26-57a1-48ac-8049-65516e461379",
   "cell_type": "code",
   "source": [
    "import os\n",
    "from IPython.display import Markdown\n",
    "notebooks = [f for f in os.listdir('.') if f.endswith('.ipynb') and f.startswith('Exercise') and f != 'index.ipynb']\n",
    "notebooks.sort()\n",
    "links = '\\n'.join([f'- [{nb}](./{nb})' for nb in notebooks])\n",
    "Markdown(links if links else '_No other notebooks found yet._')"
   ],
   "metadata": {
    "trusted": true,
    "ExecuteTime": {
     "end_time": "2025-10-06T09:26:55.819034800Z",
     "start_time": "2025-10-06T09:26:55.803483500Z"
    }
   },
   "outputs": [
    {
     "data": {
      "text/plain": "<IPython.core.display.Markdown object>",
      "text/markdown": "- [Exercise_1_Laplace.ipynb](./Exercise_1_Laplace.ipynb)\n- [Exercise_2_Poisson.ipynb](./Exercise_2_Poisson.ipynb)\n- [Exercise_3_Poisson_circle.ipynb](./Exercise_3_Poisson_circle.ipynb)\n- [Exercise_4_wave_rectangle.ipynb](./Exercise_4_wave_rectangle.ipynb)"
     },
     "execution_count": 4,
     "metadata": {},
     "output_type": "execute_result"
    }
   ],
   "execution_count": 4
  },
  {
   "cell_type": "markdown",
   "source": [
    "### Interpretation\n",
    "Or check out the notebooks below to review the notebooks on the interpretation of the eigenfunction expansion solution to the heat equation and the wave equation:"
   ],
   "metadata": {
    "collapsed": false
   },
   "id": "8d248ff0b63fefad"
  },
  {
   "cell_type": "code",
   "execution_count": 3,
   "outputs": [
    {
     "data": {
      "text/plain": "<IPython.core.display.Markdown object>",
      "text/markdown": "- [Interpretation_modes_heatEquation.ipynb](./Interpretation_modes_heatEquation.ipynb)\n- [Interpretation_modes_waveEquation.ipynb](./Interpretation_modes_waveEquation.ipynb)"
     },
     "execution_count": 3,
     "metadata": {},
     "output_type": "execute_result"
    }
   ],
   "source": [
    "import os\n",
    "from IPython.display import Markdown\n",
    "notebooks = [f for f in os.listdir('.') if f.endswith('.ipynb') and f.startswith('Interpretation') and f != 'index.ipynb']\n",
    "notebooks.sort()\n",
    "links = '\\n'.join([f'- [{nb}](./{nb})' for nb in notebooks])\n",
    "Markdown(links if links else '_No other notebooks found yet._')"
   ],
   "metadata": {
    "collapsed": false,
    "ExecuteTime": {
     "end_time": "2025-10-06T09:26:53.021836300Z",
     "start_time": "2025-10-06T09:26:52.985966400Z"
    }
   },
   "id": "1c9daa5db5c8996d"
  },
  {
   "id": "a6d05a37-47d7-49ea-b7f4-8cdbd15d9c29",
   "cell_type": "markdown",
   "source": [
    "You can always return here by opening `index.ipynb` from the file browser."
   ],
   "metadata": {}
  }
 ]
}
