{
 "metadata": {
  "kernelspec": {
   "name": "python3",
   "display_name": "Python 3 (ipykernel)",
   "language": "python"
  },
  "language_info": {
   "name": "python",
   "version": "3.10.16",
   "mimetype": "text/x-python",
   "codemirror_mode": {
    "name": "ipython",
    "version": 3
   },
   "pygments_lexer": "ipython3",
   "nbconvert_exporter": "python",
   "file_extension": ".py"
  }
 },
 "nbformat_minor": 5,
 "nbformat": 4,
 "cells": [
  {
   "id": "c1d48b5b-0eef-4f6a-92b2-ea8b3afcef8b",
   "cell_type": "markdown",
   "source": [
    "# Welcome\n",
    "This Binder environment contains a collection of practice exercises for PDE. The exercises guide you through the use of the eigenfunction expansion method.\n",
    "\n",
    "### How it works\n",
    "- These exercises are **to be solved on paper**.  \n",
    "- You can use the provided Python code to **check and visualize your answers**.  \n",
    "- Notebooks run entirely in the browser no installation needed.\n",
    "- NB. Changes you make to the code will not be saved. \n",
    "\n",
    "### How to run the code\n",
    "1. Click inside a code cell.  \n",
    "2. Press **Shift + Enter** (or click Run at the top menu).  \n",
    "3. To run all cells in order: **Kernel, Restart & Run All**.  \n",
    "\n",
    "### Exercises\n",
    "Use the file browser menu on the left or click a link below to open each notebook:"
   ],
   "metadata": {}
  },
  {
   "id": "24094a26-57a1-48ac-8049-65516e461379",
   "cell_type": "code",
   "source": [
    "%pip install numpy matplotlib sympy\n",
    "import os\n",
    "from IPython.display import Markdown\n",
    "notebooks = [f for f in os.listdir('.') if f.endswith('.ipynb') and f.startswith('Exercise') and f != 'index.ipynb']\n",
    "notebooks.sort()\n",
    "links = '\\n'.join([f'- [{nb}](./{nb})' for nb in notebooks])\n",
    "Markdown(links if links else '_No other notebooks found yet._')"
   ],
   "metadata": {
    "trusted": true
   },
   "outputs": [
    {
     "execution_count": 21,
     "output_type": "execute_result",
     "data": {
      "text/plain": "<IPython.core.display.Markdown object>",
      "text/markdown": "- [Exercise_1_Laplace.ipynb](./Exercise_1_Laplace.ipynb)\n- [Exercise_2_Poisson.ipynb](./Exercise_2_Poisson.ipynb)\n- [Exercise_3_Poisson_circle.ipynb](./Exercise_3_Poisson_circle.ipynb)\n- [Exercise_4_wave_rectangle.ipynb](./Exercise_4_wave_rectangle.ipynb)"
     },
     "metadata": {}
    }
   ],
   "execution_count": 21
  },
  {
   "cell_type": "markdown",
   "source": [
    "### Interpretation\n",
    "Or check out the notebooks below to review the notebooks on the interpretation of the eigenfunction expansion solution to the heat equation and the wave equation:"
   ],
   "metadata": {
    "collapsed": false
   },
   "id": "8d248ff0b63fefad"
  },
  {
   "cell_type": "code",
   "execution_count": 1,
   "outputs": [
    {
     "name": "stdout",
     "output_type": "stream",
     "text": [
      "Requirement already satisfied: numpy in c:\\users\\yoeridijkstra\\appdata\\local\\anaconda3\\envs\\yoeri_baseenv\\lib\\site-packages (2.3.1)\n",
      "Requirement already satisfied: matplotlib in c:\\users\\yoeridijkstra\\appdata\\local\\anaconda3\\envs\\yoeri_baseenv\\lib\\site-packages (3.10.0)\n",
      "Collecting sympy\n",
      "  Downloading sympy-1.14.0-py3-none-any.whl.metadata (12 kB)\n",
      "Requirement already satisfied: contourpy>=1.0.1 in c:\\users\\yoeridijkstra\\appdata\\local\\anaconda3\\envs\\yoeri_baseenv\\lib\\site-packages (from matplotlib) (1.3.1)\n",
      "Requirement already satisfied: cycler>=0.10 in c:\\users\\yoeridijkstra\\appdata\\local\\anaconda3\\envs\\yoeri_baseenv\\lib\\site-packages (from matplotlib) (0.11.0)\n",
      "Requirement already satisfied: fonttools>=4.22.0 in c:\\users\\yoeridijkstra\\appdata\\local\\anaconda3\\envs\\yoeri_baseenv\\lib\\site-packages (from matplotlib) (4.55.3)\n",
      "Requirement already satisfied: kiwisolver>=1.3.1 in c:\\users\\yoeridijkstra\\appdata\\local\\anaconda3\\envs\\yoeri_baseenv\\lib\\site-packages (from matplotlib) (1.4.8)\n",
      "Requirement already satisfied: packaging>=20.0 in c:\\users\\yoeridijkstra\\appdata\\local\\anaconda3\\envs\\yoeri_baseenv\\lib\\site-packages (from matplotlib) (25.0)\n",
      "Requirement already satisfied: pillow>=8 in c:\\users\\yoeridijkstra\\appdata\\local\\anaconda3\\envs\\yoeri_baseenv\\lib\\site-packages (from matplotlib) (11.1.0)\n",
      "Requirement already satisfied: pyparsing>=2.3.1 in c:\\users\\yoeridijkstra\\appdata\\local\\anaconda3\\envs\\yoeri_baseenv\\lib\\site-packages (from matplotlib) (3.2.0)\n",
      "Requirement already satisfied: python-dateutil>=2.7 in c:\\users\\yoeridijkstra\\appdata\\local\\anaconda3\\envs\\yoeri_baseenv\\lib\\site-packages (from matplotlib) (2.9.0.post0)\n",
      "Collecting mpmath<1.4,>=1.1.0 (from sympy)\n",
      "  Downloading mpmath-1.3.0-py3-none-any.whl.metadata (8.6 kB)\n",
      "Requirement already satisfied: six>=1.5 in c:\\users\\yoeridijkstra\\appdata\\local\\anaconda3\\envs\\yoeri_baseenv\\lib\\site-packages (from python-dateutil>=2.7->matplotlib) (1.17.0)\n",
      "Downloading sympy-1.14.0-py3-none-any.whl (6.3 MB)\n",
      "   ---------------------------------------- 0.0/6.3 MB ? eta -:--:--\n",
      "   ------------------- -------------------- 3.1/6.3 MB 15.4 MB/s eta 0:00:01\n",
      "   ---------------------------------------  6.3/6.3 MB 15.5 MB/s eta 0:00:01\n",
      "   ---------------------------------------- 6.3/6.3 MB 13.3 MB/s eta 0:00:00\n",
      "Downloading mpmath-1.3.0-py3-none-any.whl (536 kB)\n",
      "   ---------------------------------------- 0.0/536.2 kB ? eta -:--:--\n",
      "   ---------------------------------------- 536.2/536.2 kB 5.8 MB/s eta 0:00:00\n",
      "Installing collected packages: mpmath, sympy\n",
      "\n",
      "   ---------------------------------------- 0/2 [mpmath]\n",
      "   ---------------------------------------- 0/2 [mpmath]\n",
      "   ---------------------------------------- 0/2 [mpmath]\n",
      "   -------------------- ------------------- 1/2 [sympy]\n",
      "   -------------------- ------------------- 1/2 [sympy]\n",
      "   -------------------- ------------------- 1/2 [sympy]\n",
      "   -------------------- ------------------- 1/2 [sympy]\n",
      "   -------------------- ------------------- 1/2 [sympy]\n",
      "   -------------------- ------------------- 1/2 [sympy]\n",
      "   -------------------- ------------------- 1/2 [sympy]\n",
      "   -------------------- ------------------- 1/2 [sympy]\n",
      "   -------------------- ------------------- 1/2 [sympy]\n",
      "   -------------------- ------------------- 1/2 [sympy]\n",
      "   -------------------- ------------------- 1/2 [sympy]\n",
      "   -------------------- ------------------- 1/2 [sympy]\n",
      "   -------------------- ------------------- 1/2 [sympy]\n",
      "   -------------------- ------------------- 1/2 [sympy]\n",
      "   -------------------- ------------------- 1/2 [sympy]\n",
      "   -------------------- ------------------- 1/2 [sympy]\n",
      "   -------------------- ------------------- 1/2 [sympy]\n",
      "   -------------------- ------------------- 1/2 [sympy]\n",
      "   -------------------- ------------------- 1/2 [sympy]\n",
      "   -------------------- ------------------- 1/2 [sympy]\n",
      "   -------------------- ------------------- 1/2 [sympy]\n",
      "   -------------------- ------------------- 1/2 [sympy]\n",
      "   -------------------- ------------------- 1/2 [sympy]\n",
      "   -------------------- ------------------- 1/2 [sympy]\n",
      "   -------------------- ------------------- 1/2 [sympy]\n",
      "   -------------------- ------------------- 1/2 [sympy]\n",
      "   -------------------- ------------------- 1/2 [sympy]\n",
      "   -------------------- ------------------- 1/2 [sympy]\n",
      "   -------------------- ------------------- 1/2 [sympy]\n",
      "   -------------------- ------------------- 1/2 [sympy]\n",
      "   -------------------- ------------------- 1/2 [sympy]\n",
      "   -------------------- ------------------- 1/2 [sympy]\n",
      "   -------------------- ------------------- 1/2 [sympy]\n",
      "   -------------------- ------------------- 1/2 [sympy]\n",
      "   -------------------- ------------------- 1/2 [sympy]\n",
      "   -------------------- ------------------- 1/2 [sympy]\n",
      "   -------------------- ------------------- 1/2 [sympy]\n",
      "   -------------------- ------------------- 1/2 [sympy]\n",
      "   -------------------- ------------------- 1/2 [sympy]\n",
      "   -------------------- ------------------- 1/2 [sympy]\n",
      "   -------------------- ------------------- 1/2 [sympy]\n",
      "   -------------------- ------------------- 1/2 [sympy]\n",
      "   -------------------- ------------------- 1/2 [sympy]\n",
      "   -------------------- ------------------- 1/2 [sympy]\n",
      "   -------------------- ------------------- 1/2 [sympy]\n",
      "   -------------------- ------------------- 1/2 [sympy]\n",
      "   -------------------- ------------------- 1/2 [sympy]\n",
      "   -------------------- ------------------- 1/2 [sympy]\n",
      "   -------------------- ------------------- 1/2 [sympy]\n",
      "   -------------------- ------------------- 1/2 [sympy]\n",
      "   -------------------- ------------------- 1/2 [sympy]\n",
      "   -------------------- ------------------- 1/2 [sympy]\n",
      "   -------------------- ------------------- 1/2 [sympy]\n",
      "   -------------------- ------------------- 1/2 [sympy]\n",
      "   -------------------- ------------------- 1/2 [sympy]\n",
      "   -------------------- ------------------- 1/2 [sympy]\n",
      "   -------------------- ------------------- 1/2 [sympy]\n",
      "   -------------------- ------------------- 1/2 [sympy]\n",
      "   -------------------- ------------------- 1/2 [sympy]\n",
      "   -------------------- ------------------- 1/2 [sympy]\n",
      "   -------------------- ------------------- 1/2 [sympy]\n",
      "   -------------------- ------------------- 1/2 [sympy]\n",
      "   -------------------- ------------------- 1/2 [sympy]\n",
      "   -------------------- ------------------- 1/2 [sympy]\n",
      "   -------------------- ------------------- 1/2 [sympy]\n",
      "   -------------------- ------------------- 1/2 [sympy]\n",
      "   -------------------- ------------------- 1/2 [sympy]\n",
      "   -------------------- ------------------- 1/2 [sympy]\n",
      "   -------------------- ------------------- 1/2 [sympy]\n",
      "   -------------------- ------------------- 1/2 [sympy]\n",
      "   -------------------- ------------------- 1/2 [sympy]\n",
      "   ---------------------------------------- 2/2 [sympy]\n",
      "\n",
      "Successfully installed mpmath-1.3.0 sympy-1.14.0\n",
      "Note: you may need to restart the kernel to use updated packages.\n"
     ]
    },
    {
     "data": {
      "text/plain": "<IPython.core.display.Markdown object>",
      "text/markdown": "- [Interpretation_modes_heatEquation.ipynb](./Interpretation_modes_heatEquation.ipynb)\n- [Interpretation_modes_waveEquation.ipynb](./Interpretation_modes_waveEquation.ipynb)"
     },
     "execution_count": 1,
     "metadata": {},
     "output_type": "execute_result"
    }
   ],
   "source": [
    "%pip install numpy matplotlib sympy\n",
    "import os\n",
    "from IPython.display import Markdown\n",
    "notebooks = [f for f in os.listdir('.') if f.endswith('.ipynb') and f.startswith('Interpretation') and f != 'index.ipynb']\n",
    "notebooks.sort()\n",
    "links = '\\n'.join([f'- [{nb}](./{nb})' for nb in notebooks])\n",
    "Markdown(links if links else '_No other notebooks found yet._')"
   ],
   "metadata": {
    "collapsed": false,
    "ExecuteTime": {
     "end_time": "2025-10-06T09:21:55.828655100Z",
     "start_time": "2025-10-06T09:21:38.385150100Z"
    }
   },
   "id": "1c9daa5db5c8996d"
  },
  {
   "id": "a6d05a37-47d7-49ea-b7f4-8cdbd15d9c29",
   "cell_type": "markdown",
   "source": [
    "You can always return here by opening `index.ipynb` from the file browser."
   ],
   "metadata": {}
  }
 ]
}
